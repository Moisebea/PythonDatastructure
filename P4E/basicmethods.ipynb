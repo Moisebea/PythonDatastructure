{
 "cells": [
  {
   "cell_type": "markdown",
   "metadata": {},
   "source": [
    "New Line"
   ]
  },
  {
   "cell_type": "code",
   "execution_count": 4,
   "metadata": {},
   "outputs": [
    {
     "name": "stdout",
     "output_type": "stream",
     "text": [
      "Hello\n",
      "World\n"
     ]
    }
   ],
   "source": [
    "stuff = 'Hello\\nWorld'\n",
    "print(stuff)"
   ]
  },
  {
   "cell_type": "code",
   "execution_count": 6,
   "metadata": {},
   "outputs": [
    {
     "name": "stdout",
     "output_type": "stream",
     "text": [
      "11\n"
     ]
    }
   ],
   "source": [
    "print(len(stuff))"
   ]
  },
  {
   "cell_type": "markdown",
   "metadata": {},
   "source": [
    "read file words.txt and rewrite it in upper case"
   ]
  },
  {
   "cell_type": "code",
   "execution_count": 8,
   "metadata": {},
   "outputs": [
    {
     "name": "stdout",
     "output_type": "stream",
     "text": [
      "WRITING PROGRAMS OR PROGRAMMING IS A VERY CREATIVE\n",
      "AND REWARDING ACTIVITY  YOU CAN WRITE PROGRAMS FOR\n",
      "MANY REASONS RANGING FROM MAKING YOUR LIVING TO SOLVING\n",
      "A DIFFICULT DATA ANALYSIS PROBLEM TO HAVING FUN TO HELPING\n",
      "SOMEONE ELSE SOLVE A PROBLEM  THIS BOOK ASSUMES THAT\n",
      "{\\EM EVERYONE} NEEDS TO KNOW HOW TO PROGRAM AND THAT ONCE\n",
      "YOU KNOW HOW TO PROGRAM, YOU WILL FIGURE OUT WHAT YOU WANT\n",
      "TO DO WITH YOUR NEWFOUND SKILLS\n",
      "\n",
      "WE ARE SURROUNDED IN OUR DAILY LIVES WITH COMPUTERS RANGING\n",
      "FROM LAPTOPS TO CELL PHONES  WE CAN THINK OF THESE COMPUTERS\n",
      "AS OUR PERSONAL ASSISTANTS WHO CAN TAKE CARE OF MANY THINGS\n",
      "ON OUR BEHALF  THE HARDWARE IN OUR CURRENT-DAY COMPUTERS\n",
      "IS ESSENTIALLY BUILT TO CONTINUOUSLY ASK US THE QUESTION\n",
      "WHAT WOULD YOU LIKE ME TO DO NEXT\n",
      "\n",
      "OUR COMPUTERS ARE FAST AND HAVE VASTS AMOUNTS OF MEMORY AND \n",
      "COULD BE VERY HELPFUL TO US IF WE ONLY KNEW THE LANGUAGE TO \n",
      "SPEAK TO EXPLAIN TO THE COMPUTER WHAT WE WOULD LIKE IT TO \n",
      "DO NEXT IF WE KNEW THIS LANGUAGE WE COULD TELL THE \n",
      "COMPUTER TO DO TASKS ON OUR BEHALF THAT WERE REPTITIVE  \n",
      "INTERESTINGLY, THE KINDS OF THINGS COMPUTERS CAN DO BEST\n",
      "ARE OFTEN THE KINDS OF THINGS THAT WE HUMANS FIND BORING\n",
      "AND MIND-NUMBING\n"
     ]
    }
   ],
   "source": [
    "fname = input(\"Enter file name: \")\n",
    "fh = open(fname)\n",
    "inp = fh.read().rstrip()\n",
    "INP = inp.upper()\n",
    "print(INP)"
   ]
  },
  {
   "cell_type": "code",
   "execution_count": 18,
   "metadata": {},
   "outputs": [
    {
     "name": "stdout",
     "output_type": "stream",
     "text": [
      "Average spam confidence: 0.7507185185185187\n"
     ]
    }
   ],
   "source": [
    "fname = input(\"Enter file name: \")\n",
    "fh = open(fname)\n",
    "count = 0\n",
    "total = 0\n",
    "for line in fh:\n",
    "    if line.startswith(\"X-DSPAM-Confidence:\"):\n",
    "        count = count + 1\n",
    "        colon_position = line.find(':')\n",
    "        value = float(line[colon_position+1:])\n",
    "        total = total + value\n",
    "average = total / count\n",
    "print(\"Average spam confidence:\", average)"
   ]
  },
  {
   "cell_type": "markdown",
   "metadata": {},
   "source": [
    "Lists and Definite Loops"
   ]
  },
  {
   "cell_type": "code",
   "execution_count": 21,
   "metadata": {},
   "outputs": [
    {
     "name": "stdout",
     "output_type": "stream",
     "text": [
      "Happy New Year: Joe\n",
      "Happy New Year: Glenn\n",
      "Happy New Year: Sally\n"
     ]
    }
   ],
   "source": [
    "friends = ['Joe','Glenn','Sally']\n",
    "for friend in friends:\n",
    "    print('Happy New Year:', friend)"
   ]
  },
  {
   "cell_type": "markdown",
   "metadata": {},
   "source": [
    "Lists are mutable"
   ]
  },
  {
   "cell_type": "code",
   "execution_count": 27,
   "metadata": {},
   "outputs": [
    {
     "name": "stdout",
     "output_type": "stream",
     "text": [
      "[2, 14, 28, 98, 34]\n"
     ]
    }
   ],
   "source": [
    "lotto = [2,14,26,98,34]\n",
    "lotto[2] =28\n",
    "print(lotto)"
   ]
  },
  {
   "cell_type": "code",
   "execution_count": 32,
   "metadata": {},
   "outputs": [
    {
     "name": "stdout",
     "output_type": "stream",
     "text": [
      "[0, 1, 2, 3, 4]\n"
     ]
    }
   ],
   "source": [
    "print(list(range(len(lotto))))"
   ]
  },
  {
   "cell_type": "code",
   "execution_count": 37,
   "metadata": {},
   "outputs": [
    {
     "name": "stdout",
     "output_type": "stream",
     "text": [
      "False\n",
      "True\n",
      "True\n"
     ]
    }
   ],
   "source": [
    "some = [1,5,21,94,19]\n",
    "print(9 in some)\n",
    "print(19 in some)\n",
    "print(45 not in some)"
   ]
  },
  {
   "cell_type": "code",
   "execution_count": 39,
   "metadata": {},
   "outputs": [
    {
     "name": "stdout",
     "output_type": "stream",
     "text": [
      "['Glenn', 'Joe', 'Sally']\n"
     ]
    }
   ],
   "source": [
    "friends.sort()\n",
    "print(friends)"
   ]
  },
  {
   "cell_type": "code",
   "execution_count": 41,
   "metadata": {},
   "outputs": [
    {
     "name": "stdout",
     "output_type": "stream",
     "text": [
      "['With', 'three', 'words']\n"
     ]
    }
   ],
   "source": [
    "abc = ' With three words'\n",
    "stff = abc.split()\n",
    "print(stff)"
   ]
  },
  {
   "cell_type": "code",
   "execution_count": 1,
   "metadata": {},
   "outputs": [
    {
     "name": "stdout",
     "output_type": "stream",
     "text": [
      "stephen.marquard@uct.ac.za\n",
      "louis@media.berkeley.edu\n",
      "zqian@umich.edu\n",
      "rjlowe@iupui.edu\n",
      "zqian@umich.edu\n",
      "rjlowe@iupui.edu\n",
      "cwen@iupui.edu\n",
      "cwen@iupui.edu\n",
      "gsilver@umich.edu\n",
      "gsilver@umich.edu\n",
      "zqian@umich.edu\n",
      "gsilver@umich.edu\n",
      "wagnermr@iupui.edu\n",
      "zqian@umich.edu\n",
      "antranig@caret.cam.ac.uk\n",
      "gopal.ramasammycook@gmail.com\n",
      "david.horwitz@uct.ac.za\n",
      "david.horwitz@uct.ac.za\n",
      "david.horwitz@uct.ac.za\n",
      "david.horwitz@uct.ac.za\n",
      "stephen.marquard@uct.ac.za\n",
      "louis@media.berkeley.edu\n",
      "louis@media.berkeley.edu\n",
      "ray@media.berkeley.edu\n",
      "cwen@iupui.edu\n",
      "cwen@iupui.edu\n",
      "cwen@iupui.edu\n",
      "There were 27 lines in the file with From as the first word\n"
     ]
    }
   ],
   "source": [
    "fname = input(\"Enter file name: \")\n",
    "if len(fname) < 1:\n",
    "    fname = \"mbox.txt\"\n",
    "\n",
    "fh = open(fname)\n",
    "count = 0\n",
    "for line in fh:\n",
    "    if line.startswith('From') and not line.startswith('From:'):\n",
    "        words = line.split()\n",
    "        print(words[1])\n",
    "        count+=1\n",
    "\n",
    "print(\"There were\", count, \"lines in the file with From as the first word\")\n"
   ]
  },
  {
   "cell_type": "markdown",
   "metadata": {},
   "source": [
    "Dictionnary"
   ]
  },
  {
   "cell_type": "code",
   "execution_count": 8,
   "metadata": {},
   "outputs": [
    {
     "name": "stdout",
     "output_type": "stream",
     "text": [
      "{'money': 12, 'candy': 3, 'tissues': 75}\n"
     ]
    }
   ],
   "source": [
    "purse = dict()\n",
    "purse['money'] = 12\n",
    "purse['candy'] = 3\n",
    "purse['tissues'] = 75\n",
    "print(purse)"
   ]
  },
  {
   "cell_type": "code",
   "execution_count": 9,
   "metadata": {},
   "outputs": [
    {
     "name": "stdout",
     "output_type": "stream",
     "text": [
      "3\n"
     ]
    }
   ],
   "source": [
    "print(purse['candy'])"
   ]
  },
  {
   "cell_type": "code",
   "execution_count": 10,
   "metadata": {},
   "outputs": [
    {
     "name": "stdout",
     "output_type": "stream",
     "text": [
      "{'money': 12, 'candy': 5, 'tissues': 75}\n"
     ]
    }
   ],
   "source": [
    "purse['candy'] =purse['candy'] + 2\n",
    "print(purse)"
   ]
  },
  {
   "cell_type": "code",
   "execution_count": 13,
   "metadata": {},
   "outputs": [
    {
     "name": "stdout",
     "output_type": "stream",
     "text": [
      "cwen@iupui.edu 5\n"
     ]
    }
   ],
   "source": [
    "name = input(\"Enter file:\")\n",
    "if len(name) < 1:\n",
    "    name = \"mbox-short.txt\"\n",
    "fh = open(name)\n",
    "emails = dict()\n",
    "for line in fh:\n",
    "    if line.startswith('From') and not line.startswith('From:'):\n",
    "        words = line.split()\n",
    "        emails[words[1]] = emails.get(words[1], 0) + 1\n",
    "\n",
    "max_count = None\n",
    "max_email = None\n",
    "for email, count in emails.items():\n",
    "    if max_count is None or count > max_count:\n",
    "        max_email = email\n",
    "        max_count = count\n",
    "\n",
    "print(max_email, max_count)"
   ]
  },
  {
   "cell_type": "markdown",
   "metadata": {},
   "source": [
    "Tuples"
   ]
  },
  {
   "cell_type": "code",
   "execution_count": 14,
   "metadata": {},
   "outputs": [
    {
     "name": "stdout",
     "output_type": "stream",
     "text": [
      "Joseph\n"
     ]
    }
   ],
   "source": [
    "x = ('Glenn', 'Sally','Joseph')\n",
    "print(x[2])"
   ]
  },
  {
   "cell_type": "code",
   "execution_count": 16,
   "metadata": {},
   "outputs": [
    {
     "data": {
      "text/plain": [
       "True"
      ]
     },
     "execution_count": 16,
     "metadata": {},
     "output_type": "execute_result"
    }
   ],
   "source": [
    "(0,1,2) < (5,1,2)"
   ]
  },
  {
   "cell_type": "code",
   "execution_count": 17,
   "metadata": {},
   "outputs": [
    {
     "name": "stdout",
     "output_type": "stream",
     "text": [
      "04 3\n",
      "06 1\n",
      "07 1\n",
      "09 2\n",
      "10 3\n",
      "11 6\n",
      "14 1\n",
      "15 2\n",
      "16 4\n",
      "17 2\n",
      "18 1\n",
      "19 1\n"
     ]
    }
   ],
   "source": [
    "fname = input(\"Enter file name: \")\n",
    "if len(fname) < 1:\n",
    "    fname = \"mbox.txt\"\n",
    "\n",
    "fh = open(fname)\n",
    "hours = dict()\n",
    "\n",
    "for line in fh:\n",
    "    if line.startswith('From '):\n",
    "        time = line.split()[5]\n",
    "        hour = time.split(':')[0]\n",
    "        hours[hour] = hours.get(hour, 0) + 1\n",
    "\n",
    "sorted_hours = sorted(hours.items())\n",
    "for hour, count in sorted_hours:\n",
    "    print(hour, count)"
   ]
  }
 ],
 "metadata": {
  "kernelspec": {
   "display_name": "Python 3",
   "language": "python",
   "name": "python3"
  },
  "language_info": {
   "codemirror_mode": {
    "name": "ipython",
    "version": 3
   },
   "file_extension": ".py",
   "mimetype": "text/x-python",
   "name": "python",
   "nbconvert_exporter": "python",
   "pygments_lexer": "ipython3",
   "version": "3.12.0"
  }
 },
 "nbformat": 4,
 "nbformat_minor": 2
}
